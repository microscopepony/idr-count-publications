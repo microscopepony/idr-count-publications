{
 "cells": [
  {
   "cell_type": "markdown",
   "metadata": {},
   "source": [
    "# Count publications in the IDR\n",
    "\n",
    "This notebook uses the IDR OMERO.web API to fetch the top-level study metadata for all published studies, and fetches Pubmed metadata for each study that contains a Pubmed ID.\n",
    "\n",
    "This is used to show the journals and number of studies associated with that journal in the IDR."
   ]
  },
  {
   "cell_type": "code",
   "execution_count": 1,
   "metadata": {},
   "outputs": [],
   "source": [
    "from collections import Counter\n",
    "import requests\n",
    "try:\n",
    "    from tqdm import tqdm\n",
    "except ImportError:\n",
    "    tqdm = iter\n",
    "\n",
    "IDR_BASE_URL = \"https://idr.openmicroscopy.org\"\n",
    "INDEX_PAGE = f\"{IDR_BASE_URL}/webclient/?experimenter=-1\"\n",
    "MAP_URL = '{base}/webclient/api/annotations/?type=map&{type}={id}'\n",
    "PUBMED_URL = 'https://eutils.ncbi.nlm.nih.gov/entrez/eutils/esummary.fcgi?db=pubmed&id={pubmedid}&retmode=json'"
   ]
  },
  {
   "cell_type": "markdown",
   "metadata": {},
   "source": [
    "OMERO.web uses a default session backend authentication\n",
    "scheme to authenticate.\n",
    "First create a HTTP session using the\n",
    "[`requests`](http://docs.python-requests.org/en/master/) library:"
   ]
  },
  {
   "cell_type": "code",
   "execution_count": 2,
   "metadata": {},
   "outputs": [],
   "source": [
    "session = requests.Session()\n",
    "request = requests.Request('GET', INDEX_PAGE)\n",
    "prepped = session.prepare_request(request)\n",
    "response = session.send(prepped)\n",
    "response.raise_for_status()"
   ]
  },
  {
   "cell_type": "markdown",
   "metadata": {},
   "source": [
    "Get all studies (projects and screens)"
   ]
  },
  {
   "cell_type": "code",
   "execution_count": 3,
   "metadata": {},
   "outputs": [
    {
     "name": "stdout",
     "output_type": "stream",
     "text": [
      "Found 61 screens 58 projects\n"
     ]
    }
   ],
   "source": [
    "screens = session.get(f'{IDR_BASE_URL}/api/v0/m/screens/').json()\n",
    "projects = session.get(f'{IDR_BASE_URL}/api/v0/m/projects/').json()\n",
    "print(f\"Found {screens['meta']['totalCount']} screens {projects['meta']['totalCount']} projects\")\n",
    "assert (screens['meta']['totalCount'] <= screens['meta']['limit']), 'Paging required'\n",
    "assert (projects['meta']['totalCount'] <= projects['meta']['limit']), 'Paging required'\n",
    "\n",
    "studies = {\n",
    "    'screen': screens['data'],\n",
    "    'project': projects['data'],\n",
    "}"
   ]
  },
  {
   "cell_type": "markdown",
   "metadata": {},
   "source": [
    "Get study map annotations, we're interested in the PubMed IDs"
   ]
  },
  {
   "cell_type": "code",
   "execution_count": 4,
   "metadata": {},
   "outputs": [],
   "source": [
    "study_pubmedids = {}\n",
    "\n",
    "for (study_type, container) in studies.items():\n",
    "    for c in container:\n",
    "        url = MAP_URL.format(base=IDR_BASE_URL,type=study_type, id=c['@id'])\n",
    "        annotations = session.get(url).json()['annotations']\n",
    "        for a in annotations:\n",
    "            if a['ns'] == 'idr.openmicroscopy.org/study/info':\n",
    "                m = dict(a['values'])\n",
    "                name = c['Name'].split('/')[0]\n",
    "                try:\n",
    "                    pubmedid = m['PubMed ID'].split()[0]\n",
    "                    if study_pubmedids.get(name, None):\n",
    "                        assert study_pubmedids[name] == pubmedid\n",
    "                    else:\n",
    "                        study_pubmedids[name] = pubmedid                        \n",
    "                except KeyError:\n",
    "                    study_pubmedids[name] = None\n",
    "                break"
   ]
  },
  {
   "cell_type": "code",
   "execution_count": 5,
   "metadata": {},
   "outputs": [
    {
     "name": "stdout",
     "output_type": "stream",
     "text": [
      "idr0001-graml-sysgro 25373780\n",
      "idr0002-heriche-condensation 24943848\n",
      "idr0003-breker-plasticity 23509072\n",
      "idr0004-thorpe-rad52 18085829\n",
      "idr0005-toret-adhesion 24446484\n",
      "idr0006-fong-nuclearbodies 24127217\n",
      "idr0007-srikumar-sumo 23547032\n",
      "idr0008-rohn-actinome 21893601\n",
      "idr0009-simpson-secretion 22660414\n",
      "idr0010-doil-dnadamage 19203579\n",
      "idr0012-fuchs-cellmorph 20531400\n",
      "idr0013-neumann-mitocheck 20360735\n",
      "idr0015-colin-taraoceans 29087936\n",
      "idr0016-wawer-bioactivecompoundprofiling 28327978\n",
      "idr0017-breinig-drugscreen 26700849\n",
      "idr0019-sero-nfkappab 26148352\n",
      "idr0020-barr-chtog 26037491\n",
      "idr0021-lawo-pericentriolarmaterial 23086237\n",
      "idr0022-koedoot-cellmigration 31278301\n",
      "idr0023-szymborska-nuclearpore 23845946\n",
      "idr0025-stadler-proteinatlas 22361696\n",
      "idr0026-weigelin-immunotherapy 26034288\n",
      "idr0027-dickerson-chromatin 27609610\n",
      "idr0028-pascualvargas-rhogtpases 28248929\n",
      "idr0030-sero-yap 28065575\n",
      "idr0032-yang-meristem 27212401\n",
      "idr0033-rohban-pathways 28315521\n",
      "idr0034-kilpinen-hipsci 28489815\n",
      "idr0035-caie-drugresponse 28858338\n",
      "idr0036-gustafsdottir-cellpainting 24312513\n",
      "idr0037-vigilante-hipsci 30784590\n",
      "idr0038-held-kidneylightsheet 30048451\n",
      "idr0040-aymoz-singlecell 29695607\n",
      "idr0041-cai-mitoticatlas 30202089\n",
      "idr0042-nirschl-wsideeplearning 29614076\n",
      "idr0043-uhlen-humanproteinatlas 25613900\n",
      "idr0044-mcdole-tardislightsheet 30318151\n",
      "idr0045-reichmann-zygotespindle 30002254\n",
      "idr0047-neuert-yeastmrna 31209217\n",
      "idr0048-abdeladim-chroms 30971684\n",
      "idr0050-springer-cytoskeletalsystems 30865622\n",
      "idr0051-fulton-tailbudlightsheet 30333213\n",
      "idr0052-walther-condensinmap 29632028\n",
      "idr0053-faas-virtualnanoscopy 22869601\n",
      "idr0054-segura-tonsilhyperion 31072818\n",
      "idr0056-stojic-lncrnas 32296040\n",
      "idr0061-wolf-spindlepositioning 31253758\n",
      "idr0062-blin-nuclearsegmentation 31398189\n",
      "idr0064-goglia-erkdynamics 32191874\n",
      "idr0065-camsund-crispri 31740817\n",
      "idr0066-voigt-mesospim 31527839\n",
      "idr0067-king-yeastmeiosis 31397671\n",
      "idr0069-caldera-perturbome 31723137\n",
      "idr0070-kerwin-hdbr 20979583\n",
      "idr0073-schaadt-immuneinfiltrates 32084130\n",
      "idr0075-cabirol-honeybee 31852957\n",
      "idr0077-valuchova-flowerlightsheet 32041682\n",
      "idr0078-mattiazziusaj-endocyticcomp 32064787\n",
      "idr0079-hartmann-lateralline 32501214\n",
      "idr0081-georgi-adenovirus 32788590\n",
      "idr0082-pennycuick-lesions 32690541\n",
      "idr0083-lamers-sarscov2 32358202\n",
      "idr0084-oudelaar-alphaglobin 32483172\n",
      "idr0087-paci-nuclearimport 32692309\n",
      "\n",
      "No PubmedID found for:\n",
      "\tidr0011-ledesmafernandez-dad4\n",
      "\tidr0018-neff-histopathology\n",
      "\tidr0076-ali-metabric\n",
      "\tidr0085-walsh-mfhrem\n",
      "\tidr0086-miron-micrographs\n",
      "\tidr0089-fischl-coldtemp\n",
      "\tidr0091-julou-lacinduction\n",
      "\tidr0092-ostrop-organoid\n",
      "\tidr0094-ellinger-sarscov2\n"
     ]
    }
   ],
   "source": [
    "missing = []\n",
    "for (name, pid) in sorted(study_pubmedids.items()):\n",
    "    if study_pubmedids[name]:\n",
    "        print(name, pid)\n",
    "    else:\n",
    "        missing.append(name)\n",
    "\n",
    "if missing:\n",
    "    print('\\nNo PubmedID found for:\\n\\t' + '\\n\\t'.join(missing))"
   ]
  },
  {
   "cell_type": "markdown",
   "metadata": {},
   "source": [
    "Now fetch the Pubmed metadata (See https://www.ncbi.nlm.nih.gov/pmc/tools/get-metadata/)"
   ]
  },
  {
   "cell_type": "code",
   "execution_count": 6,
   "metadata": {},
   "outputs": [
    {
     "name": "stderr",
     "output_type": "stream",
     "text": [
      "100%|██████████| 73/73 [00:32<00:00,  2.28it/s]\n"
     ]
    }
   ],
   "source": [
    "study_pubmedinfo = {}\n",
    "\n",
    "for (name, pmid) in tqdm(study_pubmedids.items()):\n",
    "    if pmid:\n",
    "        pubmed = requests.get(PUBMED_URL.format(pubmedid=pmid)).json()\n",
    "        study_pubmedinfo[name] = pubmed['result'][pmid]"
   ]
  },
  {
   "cell_type": "markdown",
   "metadata": {},
   "source": [
    "Finally list the journals and the number of studies"
   ]
  },
  {
   "cell_type": "code",
   "execution_count": 7,
   "metadata": {},
   "outputs": [
    {
     "name": "stdout",
     "output_type": "stream",
     "text": [
      "             The Journal of cell biology   7\n",
      "                   Nature communications   6\n",
      "                                   eLife   6\n",
      "               Molecular systems biology   5\n",
      "                                PloS one   4\n",
      "                Science (New York, N.Y.)   4\n",
      "                                  Nature   3\n",
      "                          Nature methods   3\n",
      "                         Scientific data   3\n",
      "                                    Cell   2\n",
      "                            Cell systems   2\n",
      "                     Nature cell biology   2\n",
      "                      Scientific reports   2\n",
      "                        BMC cell biology   1\n",
      "                        Cancer discovery   1\n",
      "                            Cell reports   1\n",
      "                    Current biology : CB   1\n",
      "        Development (Cambridge, England)   1\n",
      "                      Developmental cell   1\n",
      "                             GigaScience   1\n",
      "                      Journal of anatomy   1\n",
      "                   Journal of proteomics   1\n",
      "           Molecular biology of the cell   1\n",
      "                            PLoS biology   1\n",
      "              PLoS computational biology   1\n",
      "                           PLoS genetics   1\n",
      "Proceedings of the National Academy of Sciences of the United States of America   1\n",
      "    The Journal of experimental medicine   1\n"
     ]
    }
   ],
   "source": [
    "journals = Counter((pub['fulljournalname']) for pub in study_pubmedinfo.values())\n",
    "journals = sorted(journals.items(), key=lambda x: (-x[1], x[0]))\n",
    "\n",
    "for j in journals:\n",
    "    print(f'{j[0]:>40} {j[1]:3}')"
   ]
  },
  {
   "cell_type": "code",
   "execution_count": null,
   "metadata": {},
   "outputs": [],
   "source": []
  }
 ],
 "metadata": {
  "kernelspec": {
   "display_name": "Python 3",
   "language": "python",
   "name": "python3"
  },
  "language_info": {
   "codemirror_mode": {
    "name": "ipython",
    "version": 3
   },
   "file_extension": ".py",
   "mimetype": "text/x-python",
   "name": "python",
   "nbconvert_exporter": "python",
   "pygments_lexer": "ipython3",
   "version": "3.6.11"
  }
 },
 "nbformat": 4,
 "nbformat_minor": 4
}
